{
  "nbformat": 4,
  "nbformat_minor": 0,
  "metadata": {
    "colab": {
      "name": "Untitled3.ipynb",
      "provenance": [],
      "collapsed_sections": [],
      "authorship_tag": "ABX9TyMw9v0jYbmHq3TWmizdScen",
      "include_colab_link": true
    },
    "kernelspec": {
      "name": "python3",
      "display_name": "Python 3"
    },
    "language_info": {
      "name": "python"
    }
  },
  "cells": [
    {
      "cell_type": "markdown",
      "metadata": {
        "id": "view-in-github",
        "colab_type": "text"
      },
      "source": [
        "<a href=\"https://colab.research.google.com/github/Vensery/data-campaign-2122/blob/main/Untitled3.ipynb\" target=\"_parent\"><img src=\"https://colab.research.google.com/assets/colab-badge.svg\" alt=\"Open In Colab\"/></a>"
      ]
    },
    {
      "cell_type": "code",
      "execution_count": 1,
      "metadata": {
        "colab": {
          "base_uri": "https://localhost:8080/"
        },
        "id": "ErWLZm47Zf4A",
        "outputId": "3b45f7ab-88aa-4bb6-c289-0f4ebd8b885b"
      },
      "outputs": [
        {
          "output_type": "stream",
          "name": "stdout",
          "text": [
            "Mounted at /content/drive\n"
          ]
        }
      ],
      "source": [
        "from google.colab import files\n",
        "from google.colab import drive\n",
        "drive.mount('/content/drive')"
      ]
    },
    {
      "cell_type": "code",
      "source": [
        "import gzip\n",
        "with gzip.open('/content/drive/MyDrive/train-images-idx3-ubyte.gz')as input_data:\n",
        "  mnist=input_data.read()"
      ],
      "metadata": {
        "id": "E4R8lkEzZ3n4"
      },
      "execution_count": 26,
      "outputs": []
    },
    {
      "cell_type": "code",
      "source": [
        "!cp /content/drive/MyDrive/elm.py /content "
      ],
      "metadata": {
        "id": "gUAfBL9Zeu4p"
      },
      "execution_count": 27,
      "outputs": []
    },
    {
      "cell_type": "code",
      "source": [
        "import elm\n",
        "import numpy as np\n",
        "import matplotlib. pyplot as plt\n",
        "from sklearn. metrics import confusion_matrix\n",
        "from sklearn. model_selection import train_test_split\n",
        "from sklearn. datasets import load_digits, load_diabetes\n",
        "from sklearn. preprocessing import StandardScaler\n",
        "from sklearn import metrics\n",
        "from sklearn. metrics import plot_confusion_matrix"
      ],
      "metadata": {
        "id": "0LspAfM9aF7A"
      },
      "execution_count": 28,
      "outputs": []
    },
    {
      "cell_type": "code",
      "source": [
        "## load dataset\n",
        "stdsc = StandardScaler()\n",
        "\n",
        "x = load_digits()\n",
        "y = stdsc.fit_transform(x.data), x.target\n",
        "\n",
        "dgx, dgy = stdsc.fit_transform(x.data/16.0), x.target\n",
        "print(\"dgx shape:\", dgx.shape)\n",
        "print(\"dgy shape:\", dgy.shape)\n",
        "x_train, x_test, y_train, y_test = train_test_split(dgx, dgy, test_size=0.1)"
      ],
      "metadata": {
        "colab": {
          "base_uri": "https://localhost:8080/"
        },
        "id": "81Yw-L4ymRWA",
        "outputId": "7dba8868-ee2f-48f9-e8f3-a723e996e5bf"
      },
      "execution_count": 38,
      "outputs": [
        {
          "output_type": "stream",
          "name": "stdout",
          "text": [
            "dgx shape: (1797, 64)\n",
            "dgy shape: (1797,)\n"
          ]
        }
      ]
    },
    {
      "cell_type": "code",
      "source": [
        "y_train, y_train.shape"
      ],
      "metadata": {
        "colab": {
          "base_uri": "https://localhost:8080/"
        },
        "id": "xH8ndyA8tE3q",
        "outputId": "8bf1cdc6-6c86-4e22-970f-49f7a339295f"
      },
      "execution_count": 39,
      "outputs": [
        {
          "output_type": "execute_result",
          "data": {
            "text/plain": [
              "(array([0, 5, 3, ..., 0, 8, 0]), (1617,))"
            ]
          },
          "metadata": {},
          "execution_count": 39
        }
      ]
    },
    {
      "cell_type": "code",
      "source": [
        "# built model and train\n",
        "model = elm.elm(hidden_units=100, activation_function='relu', random_type='normal', x=x_train, y=y_train, C=0.1, elm_type='clf')\n",
        "beta, train_accuracy, running_time = model.fit('solution2')"
      ],
      "metadata": {
        "id": "rj9x7SlPvMho"
      },
      "execution_count": 42,
      "outputs": []
    },
    {
      "cell_type": "code",
      "source": [
        "#print(\"classifier beta:\\n°. beta)\n",
        "print(\"classifier train accuracy:%f\" % train_accuracy)\n",
        "print('classifier running time:', running_time)"
      ],
      "metadata": {
        "colab": {
          "base_uri": "https://localhost:8080/"
        },
        "id": "_nEUkCyVxcvs",
        "outputId": "2cc6d5cc-7de4-432a-87bd-74e6ac7ec403"
      },
      "execution_count": 45,
      "outputs": [
        {
          "output_type": "stream",
          "name": "stdout",
          "text": [
            "classifier train accuracy:0.954236\n",
            "classifier running time: 0.026420000000001664\n"
          ]
        }
      ]
    },
    {
      "cell_type": "code",
      "source": [
        "# test\n",
        "prediction = model.predict(x_test)\n",
        "print(\"classifier test prediction:\", prediction)\n",
        "print('classifier test accuracy:', model.score(x_test, y_test))"
      ],
      "metadata": {
        "colab": {
          "base_uri": "https://localhost:8080/"
        },
        "id": "XwBuRqEY0Xr9",
        "outputId": "8e17ebb4-b846-4fc6-cc29-22b9ce769d17"
      },
      "execution_count": 46,
      "outputs": [
        {
          "output_type": "stream",
          "name": "stdout",
          "text": [
            "classifier test prediction: [8 8 4 0 0 1 0 5 1 4 9 8 2 6 8 5 6 9 4 0 4 1 1 8 0 5 2 5 5 3 7 2 5 9 6 0 6\n",
            " 1 9 7 9 6 3 2 7 2 1 3 5 5 2 8 3 2 4 4 0 4 1 4 4 6 4 0 2 8 1 6 5 8 7 3 4 7\n",
            " 1 7 6 0 0 6 1 8 2 2 3 1 1 4 3 2 7 0 1 8 4 7 5 4 4 5 4 4 5 3 1 7 8 1 1 0 1\n",
            " 0 4 6 3 4 4 7 1 1 6 0 0 5 4 8 1 1 5 8 1 1 9 2 7 2 4 6 8 4 8 0 5 3 1 5 1 9\n",
            " 9 9 4 7 0 9 7 2 3 6 7 2 1 7 8 5 5 0 7 6 0 3 2 4 5 0 4 9 0 6 1 6]\n",
            "classifier test accuracy: 0.9277777777777778\n"
          ]
        }
      ]
    },
    {
      "cell_type": "code",
      "source": [
        "print(prediction, prediction.shape)"
      ],
      "metadata": {
        "colab": {
          "base_uri": "https://localhost:8080/"
        },
        "id": "OHpi1Pjg1Lb-",
        "outputId": "c31e6b3a-b41c-4cee-9663-d5fb7df3af9d"
      },
      "execution_count": 47,
      "outputs": [
        {
          "output_type": "stream",
          "name": "stdout",
          "text": [
            "[8 8 4 0 0 1 0 5 1 4 9 8 2 6 8 5 6 9 4 0 4 1 1 8 0 5 2 5 5 3 7 2 5 9 6 0 6\n",
            " 1 9 7 9 6 3 2 7 2 1 3 5 5 2 8 3 2 4 4 0 4 1 4 4 6 4 0 2 8 1 6 5 8 7 3 4 7\n",
            " 1 7 6 0 0 6 1 8 2 2 3 1 1 4 3 2 7 0 1 8 4 7 5 4 4 5 4 4 5 3 1 7 8 1 1 0 1\n",
            " 0 4 6 3 4 4 7 1 1 6 0 0 5 4 8 1 1 5 8 1 1 9 2 7 2 4 6 8 4 8 0 5 3 1 5 1 9\n",
            " 9 9 4 7 0 9 7 2 3 6 7 2 1 7 8 5 5 0 7 6 0 3 2 4 5 0 4 9 0 6 1 6] (180,)\n"
          ]
        }
      ]
    },
    {
      "cell_type": "code",
      "source": [
        "# testing matrix plot\n",
        "y_pred = model.predict(x_test)\n",
        "\n",
        "print(metrics.confusion_matrix(y_test, y_pred))"
      ],
      "metadata": {
        "colab": {
          "base_uri": "https://localhost:8080/"
        },
        "id": "5d8u76TL1fkR",
        "outputId": "17add57d-2589-4815-e2a8-f25bec92588f"
      },
      "execution_count": 52,
      "outputs": [
        {
          "output_type": "stream",
          "name": "stdout",
          "text": [
            "[[21  0  0  0  0  0  0  0  0  0]\n",
            " [ 0 25  0  0  0  0  0  0  0  0]\n",
            " [ 0  0 15  0  0  0  0  0  0  0]\n",
            " [ 0  0  1 12  0  2  0  0  0  0]\n",
            " [ 0  0  0  0 26  0  0  1  0  0]\n",
            " [ 0  0  0  0  0 17  1  0  0  0]\n",
            " [ 0  0  0  0  0  0 14  0  1  0]\n",
            " [ 0  0  0  0  0  0  0 12  0  0]\n",
            " [ 0  2  0  0  0  0  1  2 15  1]\n",
            " [ 0  0  0  0  0  0  0  1  0 10]]\n"
          ]
        }
      ]
    },
    {
      "cell_type": "code",
      "source": [
        "# testing matrix plot\n",
        "y_pred = model.predict(x_train)\n",
        "\n",
        "print(metrics.confusion_matrix(y_train, y_pred))"
      ],
      "metadata": {
        "colab": {
          "base_uri": "https://localhost:8080/"
        },
        "id": "YVmI1SSE3LpN",
        "outputId": "195510f7-e3eb-4220-dce7-d479bad849a7"
      },
      "execution_count": 53,
      "outputs": [
        {
          "output_type": "stream",
          "name": "stdout",
          "text": [
            "[[157   0   0   0   0   0   0   0   0   0]\n",
            " [  0 147   5   0   0   0   0   0   4   1]\n",
            " [  0   0 157   2   0   0   0   1   2   0]\n",
            " [  0   1   2 158   0   3   0   2   1   1]\n",
            " [  0   1   0   0 151   0   0   1   1   0]\n",
            " [  0   0   0   2   0 159   0   0   0   3]\n",
            " [  0   2   0   0   0   0 164   0   0   0]\n",
            " [  0   0   0   0   0   0   0 165   1   1]\n",
            " [  1   8   1   2   0   3   2   0 132   4]\n",
            " [  0   3   0   2   0   2   0   2   7 153]]\n"
          ]
        }
      ]
    }
  ]
}