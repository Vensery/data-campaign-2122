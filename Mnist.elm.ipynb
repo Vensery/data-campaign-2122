{
  "nbformat": 4,
  "nbformat_minor": 0,
  "metadata": {
    "colab": {
      "name": "Untitled3.ipynb",
      "provenance": [],
      "collapsed_sections": [],
      "authorship_tag": "ABX9TyN+5YLU+btMB68mWPkc3ZM/",
      "include_colab_link": true
    },
    "kernelspec": {
      "name": "python3",
      "display_name": "Python 3"
    },
    "language_info": {
      "name": "python"
    }
  },
  "cells": [
    {
      "cell_type": "markdown",
      "metadata": {
        "id": "view-in-github",
        "colab_type": "text"
      },
      "source": [
        "<a href=\"https://colab.research.google.com/github/Vensery/data-campaign-2122/blob/main/Mnist.elm.ipynb\" target=\"_parent\"><img src=\"https://colab.research.google.com/assets/colab-badge.svg\" alt=\"Open In Colab\"/></a>"
      ]
    },
    {
      "cell_type": "code",
      "execution_count": 32,
      "metadata": {
        "colab": {
          "base_uri": "https://localhost:8080/"
        },
        "id": "ErWLZm47Zf4A",
        "outputId": "b6049e7a-85a1-4ad6-dfd3-c62547cdf839"
      },
      "outputs": [
        {
          "output_type": "stream",
          "name": "stdout",
          "text": [
            "Drive already mounted at /content/drive; to attempt to forcibly remount, call drive.mount(\"/content/drive\", force_remount=True).\n"
          ]
        }
      ],
      "source": [
        "from google.colab import files\n",
        "from google.colab import drive\n",
        "drive.mount('/content/drive')"
      ]
    },
    {
      "cell_type": "code",
      "source": [
        "import gzip\n",
        "with gzip.open('/content/drive/MyDrive/train-images-idx3-ubyte.gz')as input_data:\n",
        "  mnist=input_data.read()"
      ],
      "metadata": {
        "id": "E4R8lkEzZ3n4"
      },
      "execution_count": 33,
      "outputs": []
    },
    {
      "cell_type": "code",
      "source": [
        "!cp /content/drive/MyDrive/elm.py /content "
      ],
      "metadata": {
        "id": "gUAfBL9Zeu4p"
      },
      "execution_count": 34,
      "outputs": []
    },
    {
      "cell_type": "code",
      "source": [
        "import elm\n",
        "import tensorflow as tf\n",
        "import numpy as np\n",
        "import matplotlib. pyplot as plt"
      ],
      "metadata": {
        "id": "SS1aUzyFN7Eu"
      },
      "execution_count": 35,
      "outputs": []
    },
    {
      "cell_type": "code",
      "source": [
        "# load dataset\n",
        "mnist = tf.keras.datasets.mnist\n",
        "(x_train, y_train), (x_test, y_test) = mnist.load_data()\n",
        "x_train, x_test = x_train/255.0, x_test/255.0"
      ],
      "metadata": {
        "id": "Le4mW1o5bDZt"
      },
      "execution_count": 36,
      "outputs": []
    },
    {
      "cell_type": "code",
      "source": [
        "# transform the 3D data becomes 2D data\n",
        "x_train,x_test=np.reshape(x_train,(60000,28*28)),np.reshape(x_test,(10000,28*28))\n",
        "print(\"shape of x_train: \", x_train.shape)\n",
        "print(\"shape of x_test: \", x_test.shape)"
      ],
      "metadata": {
        "colab": {
          "base_uri": "https://localhost:8080/"
        },
        "id": "euitpi-ubeeE",
        "outputId": "ceff7a3b-f14f-4171-feb7-b733abbe7c30"
      },
      "execution_count": 37,
      "outputs": [
        {
          "output_type": "stream",
          "name": "stdout",
          "text": [
            "shape of x_train:  (60000, 784)\n",
            "shape of x_test:  (10000, 784)\n"
          ]
        }
      ]
    },
    {
      "cell_type": "code",
      "source": [
        "# built model and train\n",
        "model = elm.elm(hidden_units=3500, activation_function='relu', random_type='normal', x=x_train, y=y_train, C=0.1, elm_type='clf')\n",
        "beta, train_accuracy, running_time = model.fit('no_re')"
      ],
      "metadata": {
        "id": "RL8HWw-bbd5V"
      },
      "execution_count": 38,
      "outputs": []
    },
    {
      "cell_type": "code",
      "source": [
        "# test accuracy\n",
        "print(\"classifier train accuracy:%f\" % train_accuracy)\n",
        "print('classifier running time:', running_time)"
      ],
      "metadata": {
        "colab": {
          "base_uri": "https://localhost:8080/"
        },
        "id": "_InBz-7rb2EQ",
        "outputId": "f92c2694-4fb1-4c0e-ed8b-6a2d89c33c51"
      },
      "execution_count": 39,
      "outputs": [
        {
          "output_type": "stream",
          "name": "stdout",
          "text": [
            "classifier train accuracy:0.977333\n",
            "classifier running time: 451.4809180000002\n"
          ]
        }
      ]
    },
    {
      "cell_type": "code",
      "source": [
        " # test\n",
        "prediction = model.predict(x_test)\n",
        "print(\"classifier test prediction:\", prediction)\n",
        "print('classifier test accuracy:', model.score(x_test, y_test))"
      ],
      "metadata": {
        "colab": {
          "base_uri": "https://localhost:8080/"
        },
        "id": "1AaNAY1EcKZW",
        "outputId": "270113f6-5fbc-4127-859f-cba6066e12d9"
      },
      "execution_count": 40,
      "outputs": [
        {
          "output_type": "stream",
          "name": "stdout",
          "text": [
            "classifier test prediction: [7 2 1 ... 4 5 6]\n",
            "classifier test accuracy: 0.9658\n"
          ]
        }
      ]
    },
    {
      "cell_type": "code",
      "source": [
        "from sklearn.model_selection import KFold\n",
        "n_split=10\n",
        "# number of divisions\n",
        "result_accur=[];\n",
        "kfold = KFold(n_splits=n_split, shuffle=True)\n",
        "for train, test in kfold.split(x_train, y_train):\n",
        "     \n",
        "    beta, train_accuracy, running_time = model.fit('no_re')\n",
        "    scores=model.score(x=x_train[test],y=y_train[test])\n",
        "    # Increase fold number\n",
        "    result_accur.append(scores);\n",
        "a = (\"%.4f\" % np.mean(result_accur))\n",
        "print(f\"average accuracy：{a}\")"
      ],
      "metadata": {
        "colab": {
          "base_uri": "https://localhost:8080/"
        },
        "id": "XYEqrbGR4XAb",
        "outputId": "cd13f20e-b996-4c27-da0e-b68ee71b98a4"
      },
      "execution_count": 41,
      "outputs": [
        {
          "output_type": "stream",
          "name": "stdout",
          "text": [
            "average accuracy：0.9773\n"
          ]
        }
      ]
    },
    {
      "cell_type": "code",
      "source": [
        "#Confusion Matrix\n",
        "from sklearn.metrics import confusion_matrix\n",
        "def plot_confusion_matrix(cm, classes,\n",
        "                          normalize = False,\n",
        "title=\"Confusion Matrix\",\n",
        "cmap = plt.cm.bone_r):\n",
        "  if normalize:\n",
        "    cm = cm.astype('float') / cm.sum(axis=1)[:,np.newaxis]\n",
        "    print(\"Normalized Confusion Matrix\")\n",
        "  \n",
        "  else:\n",
        "    print(\"Confusion matrix without normalization\")\n",
        "  \n",
        "  print(cm)\n",
        "  plt.imshow(cm, interpolation='nearest', cmap=cmap)\n",
        "  plt.title(title)\n",
        "  plt.colorbar()\n",
        "  tick_marks = np.arange(len(classes))\n",
        "  plt.xticks(tick_marks, classes, rotation=45)\n",
        "  plt.yticks(tick_marks, classes)\n",
        "  fmt = '.2f' if normalize else 'd'\n",
        "  thresh = cm.max() / 2.\n",
        "  for i in range (cm.shape[0]):\n",
        "    for j in range (cm.shape[1]):\n",
        "      plt.text(j, i, format(cm[i, j], fmt),\n",
        "               horizontalalignment = 'center',\n",
        "               color = \"white\" if cm[i, j] > thresh else \"black\")\n",
        "    \n",
        "  plt.tight_layout()\n",
        "  plt.ylabel('True label')\n",
        "  plt.xlabel('Predicted label')\n",
        "  plt.show()"
      ],
      "metadata": {
        "id": "ljsaHrFAzKPL"
      },
      "execution_count": 42,
      "outputs": []
    },
    {
      "cell_type": "code",
      "source": [
        "p_test = model.predict(x_test)\n",
        "cm = confusion_matrix(y_test, p_test)\n",
        "plot_confusion_matrix(cm, list(range(10)))"
      ],
      "metadata": {
        "colab": {
          "base_uri": "https://localhost:8080/",
          "height": 507
        },
        "id": "0qDBdxeFze2F",
        "outputId": "e3dbfbeb-9753-4328-abdd-9f011fcbeff2"
      },
      "execution_count": 43,
      "outputs": [
        {
          "output_type": "stream",
          "name": "stdout",
          "text": [
            "Confusion matrix without normalization\n",
            "[[ 968    0    1    0    0    2    5    1    2    1]\n",
            " [   0 1123    3    1    1    1    4    0    2    0]\n",
            " [   6    0  990    7    3    0    4    9   12    1]\n",
            " [   0    0    7  969    0   15    1    8    7    3]\n",
            " [   1    1    3    0  954    0    6    0    2   15]\n",
            " [   4    0    1   11    2  852    8    3    8    3]\n",
            " [   8    3    1    0    5    2  938    0    1    0]\n",
            " [   0   10   13    2    5    0    0  979    3   16]\n",
            " [   5    0    2    7   11    1    5    3  936    4]\n",
            " [   6    5    2    8   17    9    1    6    6  949]]\n"
          ]
        },
        {
          "output_type": "display_data",
          "data": {
            "text/plain": [
              "<Figure size 432x288 with 2 Axes>"
            ],
            "image/png": "[encoded data removed]"
          },
          "metadata": {
            "needs_background": "light"
          }
        }
      ]
    },
    {
      "cell_type": "code",
      "source": [
        "# training matrix plot\n",
        "def plot_confusion_matrix(cm, classes,\n",
        "                          normalize = False,\n",
        "title=\"Confusion Matrix\",\n",
        "cmap = plt.cm.bone_r):\n",
        "  if normalize:\n",
        "    cm = cm.astype('float') / cm.sum(axis=1)[:,np.newaxis]\n",
        "    print(\"Normalized Confusion Matrix\")\n",
        "  \n",
        "  else:\n",
        "    print(\"Confusion matrix without normalization\")\n",
        "  \n",
        "  print(cm)\n",
        "  plt.imshow(cm, interpolation='nearest', cmap=cmap)\n",
        "  plt.title(title)\n",
        "  plt.colorbar()\n",
        "  tick_marks = np.arange(len(classes))\n",
        "  plt.xticks(tick_marks, classes, rotation=45)\n",
        "  plt.yticks(tick_marks, classes)\n",
        "  fmt = '.2f' if normalize else 'd'\n",
        "  thresh = cm.max() / 2.\n",
        "  for i in range (cm.shape[0]):\n",
        "    for j in range (cm.shape[1]):\n",
        "      plt.text(j, i, format(cm[i, j], fmt),\n",
        "               horizontalalignment = 'center',\n",
        "               color = \"white\" if cm[i, j] > thresh else \"black\")\n",
        "    \n",
        "  plt.tight_layout()\n",
        "  plt.ylabel('True label')\n",
        "  plt.xlabel('Predicted label')\n",
        "  plt.show()"
      ],
      "metadata": {
        "id": "Gveb0FwAzooT"
      },
      "execution_count": 44,
      "outputs": []
    },
    {
      "cell_type": "code",
      "source": [
        "p_train = model.predict(x_train)\n",
        "cm = confusion_matrix(y_train, p_train)\n",
        "plot_confusion_matrix(cm, list(range(10)))"
      ],
      "metadata": {
        "colab": {
          "base_uri": "https://localhost:8080/",
          "height": 507
        },
        "id": "Dd-MzkopzzKl",
        "outputId": "ec9cad1e-a864-4e56-cc52-f39487457723"
      },
      "execution_count": 45,
      "outputs": [
        {
          "output_type": "stream",
          "name": "stdout",
          "text": [
            "Confusion matrix without normalization\n",
            "[[5869    2    3    2    3    3   19    1   18    3]\n",
            " [   1 6663   32    2   15    0    2   14    9    4]\n",
            " [  17   11 5812   15   17    2    5   32   43    4]\n",
            " [   4    5   45 5934    4   38    6   27   45   23]\n",
            " [   3   20    7    0 5710    1   18    5    6   72]\n",
            " [  13    3    7   38   10 5276   37    4   19   14]\n",
            " [  15    8    3    1    4   27 5848    0   12    0]\n",
            " [   3   31   30    5   23    2    2 6113    7   49]\n",
            " [   7   21   19   20   13   24   19    5 5701   22]\n",
            " [  15    6    7   48   59   21    2   50   27 5714]]\n"
          ]
        },
        {
          "output_type": "display_data",
          "data": {
            "text/plain": [
              "<Figure size 432x288 with 2 Axes>"
            ],
            "image/png": "[encoded data removed]"
          },
          "metadata": {
            "needs_background": "light"
          }
        }
      ]
    }
  ]
}