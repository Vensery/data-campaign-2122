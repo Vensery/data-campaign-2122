{
  "nbformat": 4,
  "nbformat_minor": 0,
  "metadata": {
    "colab": {
      "name": "Mnist.Ann",
      "provenance": [],
      "authorship_tag": "ABX9TyMgmUj9qmfORvLDYgYuP8z/",
      "include_colab_link": true
    },
    "kernelspec": {
      "name": "python3",
      "display_name": "Python 3"
    },
    "language_info": {
      "name": "python"
    }
  },
  "cells": [
    {
      "cell_type": "markdown",
      "metadata": {
        "id": "view-in-github",
        "colab_type": "text"
      },
      "source": [
        "<a href=\"https://colab.research.google.com/github/Vensery/data-campaign-2122/blob/main/Mnist_Ann.ipynb\" target=\"_parent\"><img src=\"https://colab.research.google.com/assets/colab-badge.svg\" alt=\"Open In Colab\"/></a>"
      ]
    },
    {
      "cell_type": "code",
      "execution_count": 3,
      "metadata": {
        "id": "P3UWRRoQjxtM"
      },
      "outputs": [],
      "source": [
        "import tensorflow as tf\n",
        "import numpy as np\n",
        "import matplotlib.pyplot as plt\n",
        "import seaborn as sns"
      ]
    },
    {
      "cell_type": "code",
      "source": [
        "from keras.datasets import mnist\n",
        "from keras.utils import np_utils"
      ],
      "metadata": {
        "id": "zGUf66RYkQI-"
      },
      "execution_count": 4,
      "outputs": []
    },
    {
      "cell_type": "code",
      "source": [
        "mnist = tf.keras.datasets.mnist"
      ],
      "metadata": {
        "id": "Sz3BzTToj4Xm"
      },
      "execution_count": 2,
      "outputs": []
    },
    {
      "cell_type": "code",
      "source": [
        "(X_training, y_training),(X_test, y_test) = mnist.load_data()\n",
        "print(\"X_training's shape:\", X_training.shape)\n",
        "print(\"y_training's shape:\", y_training.shape)\n",
        "print(\"X_test's shape:\",X_test.shape)\n",
        "print(\"y_test's shape:\",y_test.shape)"
      ],
      "metadata": {
        "colab": {
          "base_uri": "https://localhost:8080/"
        },
        "id": "fktoTAIWj5hQ",
        "outputId": "81828a28-92b1-4242-ab5f-743d313d4779"
      },
      "execution_count": 6,
      "outputs": [
        {
          "output_type": "stream",
          "name": "stdout",
          "text": [
            "X_training's shape: (60000, 28, 28)\n",
            "y_training's shape: (60000,)\n",
            "X_test's shape: (10000, 28, 28)\n",
            "y_test's shape: (10000,)\n"
          ]
        }
      ]
    },
    {
      "cell_type": "code",
      "source": [
        "model = tf.keras.models.Sequential([\n",
        "    tf.keras.layers.Flatten(input_shape=(28, 28)),\n",
        "    tf.keras.layers.Dense(128, activation= 'relu'),\n",
        "    tf.keras.layers.Dropout(0.2),\n",
        "    tf.keras.layers.Dense(10, activation='softmax')\n",
        "])\n",
        "\n",
        "model.compile(optimizer='adam',\n",
        "              loss='sparse_categorical_crossentropy',\n",
        "              metrics=['accuracy'])\n",
        "model_fit = model.fit(x_train, y_train, validation_data=(x_test, y_test), epochs=30)"
      ],
      "metadata": {
        "colab": {
          "base_uri": "https://localhost:8080/"
        },
        "id": "j8DwtOrTomXI",
        "outputId": "631512ac-af6b-457e-b436-e58d78e729ef"
      },
      "execution_count": 22,
      "outputs": [
        {
          "output_type": "stream",
          "name": "stdout",
          "text": [
            "Epoch 1/30\n",
            "1875/1875 [==============================] - 6s 3ms/step - loss: 0.2974 - accuracy: 0.9135 - val_loss: 0.1428 - val_accuracy: 0.9571\n",
            "Epoch 2/30\n",
            "1875/1875 [==============================] - 5s 3ms/step - loss: 0.1435 - accuracy: 0.9571 - val_loss: 0.0986 - val_accuracy: 0.9709\n",
            "Epoch 3/30\n",
            "1875/1875 [==============================] - 5s 3ms/step - loss: 0.1078 - accuracy: 0.9679 - val_loss: 0.0845 - val_accuracy: 0.9735\n",
            "Epoch 4/30\n",
            "1875/1875 [==============================] - 5s 3ms/step - loss: 0.0877 - accuracy: 0.9733 - val_loss: 0.0761 - val_accuracy: 0.9780\n",
            "Epoch 5/30\n",
            "1875/1875 [==============================] - 5s 3ms/step - loss: 0.0743 - accuracy: 0.9766 - val_loss: 0.0739 - val_accuracy: 0.9775\n",
            "Epoch 6/30\n",
            "1875/1875 [==============================] - 9s 5ms/step - loss: 0.0648 - accuracy: 0.9800 - val_loss: 0.0738 - val_accuracy: 0.9775\n",
            "Epoch 7/30\n",
            "1875/1875 [==============================] - 5s 3ms/step - loss: 0.0588 - accuracy: 0.9811 - val_loss: 0.0711 - val_accuracy: 0.9769\n",
            "Epoch 8/30\n",
            "1875/1875 [==============================] - 5s 3ms/step - loss: 0.0541 - accuracy: 0.9822 - val_loss: 0.0709 - val_accuracy: 0.9785\n",
            "Epoch 9/30\n",
            "1875/1875 [==============================] - 5s 2ms/step - loss: 0.0502 - accuracy: 0.9831 - val_loss: 0.0696 - val_accuracy: 0.9795\n",
            "Epoch 10/30\n",
            "1875/1875 [==============================] - 6s 3ms/step - loss: 0.0435 - accuracy: 0.9861 - val_loss: 0.0688 - val_accuracy: 0.9802\n",
            "Epoch 11/30\n",
            "1875/1875 [==============================] - 6s 3ms/step - loss: 0.0413 - accuracy: 0.9866 - val_loss: 0.0705 - val_accuracy: 0.9805\n",
            "Epoch 12/30\n",
            "1875/1875 [==============================] - 6s 3ms/step - loss: 0.0388 - accuracy: 0.9871 - val_loss: 0.0753 - val_accuracy: 0.9789\n",
            "Epoch 13/30\n",
            "1875/1875 [==============================] - 6s 3ms/step - loss: 0.0361 - accuracy: 0.9873 - val_loss: 0.0752 - val_accuracy: 0.9794\n",
            "Epoch 14/30\n",
            "1875/1875 [==============================] - 6s 3ms/step - loss: 0.0335 - accuracy: 0.9886 - val_loss: 0.0672 - val_accuracy: 0.9811\n",
            "Epoch 15/30\n",
            "1875/1875 [==============================] - 5s 3ms/step - loss: 0.0332 - accuracy: 0.9888 - val_loss: 0.0750 - val_accuracy: 0.9813\n",
            "Epoch 16/30\n",
            "1875/1875 [==============================] - 5s 3ms/step - loss: 0.0307 - accuracy: 0.9892 - val_loss: 0.0724 - val_accuracy: 0.9815\n",
            "Epoch 17/30\n",
            "1875/1875 [==============================] - 5s 3ms/step - loss: 0.0301 - accuracy: 0.9896 - val_loss: 0.0747 - val_accuracy: 0.9809\n",
            "Epoch 18/30\n",
            "1875/1875 [==============================] - 5s 3ms/step - loss: 0.0288 - accuracy: 0.9901 - val_loss: 0.0840 - val_accuracy: 0.9786\n",
            "Epoch 19/30\n",
            "1875/1875 [==============================] - 5s 3ms/step - loss: 0.0302 - accuracy: 0.9898 - val_loss: 0.0785 - val_accuracy: 0.9799\n",
            "Epoch 20/30\n",
            "1875/1875 [==============================] - 5s 3ms/step - loss: 0.0263 - accuracy: 0.9907 - val_loss: 0.0760 - val_accuracy: 0.9804\n",
            "Epoch 21/30\n",
            "1875/1875 [==============================] - 5s 3ms/step - loss: 0.0240 - accuracy: 0.9918 - val_loss: 0.0787 - val_accuracy: 0.9805\n",
            "Epoch 22/30\n",
            "1875/1875 [==============================] - 5s 3ms/step - loss: 0.0244 - accuracy: 0.9915 - val_loss: 0.0782 - val_accuracy: 0.9813\n",
            "Epoch 23/30\n",
            "1875/1875 [==============================] - 5s 3ms/step - loss: 0.0249 - accuracy: 0.9914 - val_loss: 0.0803 - val_accuracy: 0.9806\n",
            "Epoch 24/30\n",
            "1875/1875 [==============================] - 5s 3ms/step - loss: 0.0224 - accuracy: 0.9920 - val_loss: 0.0873 - val_accuracy: 0.9798\n",
            "Epoch 25/30\n",
            "1875/1875 [==============================] - 5s 3ms/step - loss: 0.0228 - accuracy: 0.9919 - val_loss: 0.0822 - val_accuracy: 0.9813\n",
            "Epoch 26/30\n",
            "1875/1875 [==============================] - 5s 3ms/step - loss: 0.0228 - accuracy: 0.9922 - val_loss: 0.0845 - val_accuracy: 0.9800\n",
            "Epoch 27/30\n",
            "1875/1875 [==============================] - 5s 3ms/step - loss: 0.0211 - accuracy: 0.9929 - val_loss: 0.0873 - val_accuracy: 0.9803\n",
            "Epoch 28/30\n",
            "1875/1875 [==============================] - 5s 3ms/step - loss: 0.0214 - accuracy: 0.9926 - val_loss: 0.0892 - val_accuracy: 0.9803\n",
            "Epoch 29/30\n",
            "1875/1875 [==============================] - 5s 3ms/step - loss: 0.0220 - accuracy: 0.9926 - val_loss: 0.0902 - val_accuracy: 0.9821\n",
            "Epoch 30/30\n",
            "1875/1875 [==============================] - 5s 3ms/step - loss: 0.0217 - accuracy: 0.9924 - val_loss: 0.0928 - val_accuracy: 0.9795\n"
          ]
        }
      ]
    },
    {
      "cell_type": "code",
      "source": [
        "plt.plot(model_fit.history['loss'], label= 'loss')\n",
        "plt.plot(model_fit.history['val_loss'], label= 'val_loss')\n",
        "plt.legend()"
      ],
      "metadata": {
        "colab": {
          "base_uri": "https://localhost:8080/",
          "height": 283
        },
        "id": "InLsbHEfoxsi",
        "outputId": "11bff193-70c7-42c4-e1e1-afaf0a48b7be"
      },
      "execution_count": 24,
      "outputs": [
        {
          "output_type": "execute_result",
          "data": {
            "text/plain": [
              "<matplotlib.legend.Legend at 0x7f75c26e51d0>"
            ]
          },
          "metadata": {},
          "execution_count": 24
        },
        {
          "output_type": "display_data",
          "data": {
            "text/plain": [
              "<Figure size 432x288 with 1 Axes>"
            ],
            "image/png": "[encoded data removed]"
          },
          "metadata": {
            "needs_background": "light"
          }
        }
      ]
    },
    {
      "cell_type": "code",
      "source": [
        "plt.plot(model_fit.history['accuracy'], label= 'accuracy')\n",
        "plt.plot(model_fit.history['val_accuracy'], label= 'val_accuracy')\n",
        "plt.legend()"
      ],
      "metadata": {
        "colab": {
          "base_uri": "https://localhost:8080/",
          "height": 283
        },
        "id": "uvLCRd9xpivX",
        "outputId": "17e77ec3-1e5f-42de-ffe4-7b621efa544a"
      },
      "execution_count": 25,
      "outputs": [
        {
          "output_type": "execute_result",
          "data": {
            "text/plain": [
              "<matplotlib.legend.Legend at 0x7f75c2781b10>"
            ]
          },
          "metadata": {},
          "execution_count": 25
        },
        {
          "output_type": "display_data",
          "data": {
            "text/plain": [
              "<Figure size 432x288 with 1 Axes>"
            ],
            "image/png": "[encoded data removed]"
          },
          "metadata": {
            "needs_background": "light"
          }
        }
      ]
    },
    {
      "cell_type": "code",
      "source": [
        "print(\"Start evaluating the model: \")\n",
        "loss, categorical_accuracy = model.evaluate(x_test, y_test)\n",
        "\n",
        "print('\\nTest loss of the trained model:', loss)\n",
        "print('Test accuracy of the trained model:', categorical_accuracy)"
      ],
      "metadata": {
        "colab": {
          "base_uri": "https://localhost:8080/"
        },
        "id": "nRnP5y-5psZw",
        "outputId": "a6941a34-8eac-4deb-ba00-107351eec8d0"
      },
      "execution_count": 27,
      "outputs": [
        {
          "output_type": "stream",
          "name": "stdout",
          "text": [
            "Start evaluating the model: \n",
            "313/313 [==============================] - 0s 2ms/step - loss: 0.0928 - accuracy: 0.9795\n",
            "\n",
            "Test loss of the trained model: 0.09277158975601196\n",
            "Test accuracy of the trained model: 0.9794999957084656\n"
          ]
        }
      ]
    },
    {
      "cell_type": "code",
      "source": [
        "from sklearn.model_selection import KFold\n",
        "n_split=10\n",
        "# number of divisions\n",
        "result_accur=[];\n",
        "kfold = KFold(n_splits=n_split, shuffle=True)\n",
        "for train, test in kfold.split(x_train, y_train):\n",
        "   \n",
        "    model_fit = model.fit(x_train[train], y_train[train], validation_data=(x_train[test], y_train[test]), epochs=30)\n",
        "    scores = model.evaluate(x_train[test], y_train[test], verbose=0)\n",
        "    print(scores)\n",
        "    # Increase fold number\n",
        "    result_accur.append(scores);"
      ],
      "metadata": {
        "colab": {
          "base_uri": "https://localhost:8080/"
        },
        "id": "mfj9Perl2zEi",
        "outputId": "23919036-212a-4960-e79c-ab838a67579c"
      },
      "execution_count": null,
      "outputs": [
        {
          "output_type": "stream",
          "name": "stdout",
          "text": [
            "Epoch 1/30\n",
            "1688/1688 [==============================] - 6s 3ms/step - loss: 0.0200 - accuracy: 0.9926 - val_loss: 0.0039 - val_accuracy: 0.9990\n",
            "Epoch 2/30\n",
            "1688/1688 [==============================] - 5s 3ms/step - loss: 0.0194 - accuracy: 0.9934 - val_loss: 0.0065 - val_accuracy: 0.9977\n",
            "Epoch 3/30\n",
            "1688/1688 [==============================] - 5s 3ms/step - loss: 0.0197 - accuracy: 0.9932 - val_loss: 0.0057 - val_accuracy: 0.9985\n",
            "Epoch 4/30\n",
            "1688/1688 [==============================] - 5s 3ms/step - loss: 0.0183 - accuracy: 0.9934 - val_loss: 0.0062 - val_accuracy: 0.9983\n",
            "Epoch 5/30\n",
            "1688/1688 [==============================] - 5s 3ms/step - loss: 0.0171 - accuracy: 0.9941 - val_loss: 0.0079 - val_accuracy: 0.9983\n",
            "Epoch 6/30\n",
            "1688/1688 [==============================] - 5s 3ms/step - loss: 0.0171 - accuracy: 0.9941 - val_loss: 0.0077 - val_accuracy: 0.9972\n",
            "Epoch 7/30\n",
            "1688/1688 [==============================] - 7s 4ms/step - loss: 0.0159 - accuracy: 0.9943 - val_loss: 0.0135 - val_accuracy: 0.9958\n",
            "Epoch 8/30\n",
            "1688/1688 [==============================] - 5s 3ms/step - loss: 0.0171 - accuracy: 0.9940 - val_loss: 0.0106 - val_accuracy: 0.9965\n",
            "Epoch 9/30\n",
            "1688/1688 [==============================] - 7s 4ms/step - loss: 0.0167 - accuracy: 0.9941 - val_loss: 0.0110 - val_accuracy: 0.9962\n",
            "Epoch 10/30\n",
            "1688/1688 [==============================] - 5s 3ms/step - loss: 0.0157 - accuracy: 0.9948 - val_loss: 0.0118 - val_accuracy: 0.9958\n",
            "Epoch 11/30\n",
            "1688/1688 [==============================] - 5s 3ms/step - loss: 0.0154 - accuracy: 0.9947 - val_loss: 0.0141 - val_accuracy: 0.9948\n",
            "Epoch 12/30\n",
            "1688/1688 [==============================] - 5s 3ms/step - loss: 0.0158 - accuracy: 0.9945 - val_loss: 0.0129 - val_accuracy: 0.9952\n",
            "Epoch 13/30\n",
            "1688/1688 [==============================] - 5s 3ms/step - loss: 0.0175 - accuracy: 0.9938 - val_loss: 0.0147 - val_accuracy: 0.9948\n",
            "Epoch 14/30\n",
            "1688/1688 [==============================] - 5s 3ms/step - loss: 0.0169 - accuracy: 0.9943 - val_loss: 0.0156 - val_accuracy: 0.9950\n",
            "Epoch 15/30\n",
            "1688/1688 [==============================] - 6s 3ms/step - loss: 0.0157 - accuracy: 0.9949 - val_loss: 0.0171 - val_accuracy: 0.9947\n",
            "Epoch 16/30\n",
            "1688/1688 [==============================] - 6s 3ms/step - loss: 0.0153 - accuracy: 0.9946 - val_loss: 0.0153 - val_accuracy: 0.9953\n",
            "Epoch 17/30\n",
            "1688/1688 [==============================] - 5s 3ms/step - loss: 0.0149 - accuracy: 0.9947 - val_loss: 0.0163 - val_accuracy: 0.9947\n",
            "Epoch 18/30\n",
            "1688/1688 [==============================] - 6s 3ms/step - loss: 0.0146 - accuracy: 0.9951 - val_loss: 0.0147 - val_accuracy: 0.9948\n",
            "Epoch 19/30\n",
            "1688/1688 [==============================] - 5s 3ms/step - loss: 0.0141 - accuracy: 0.9946 - val_loss: 0.0203 - val_accuracy: 0.9933\n",
            "Epoch 20/30\n",
            "1688/1688 [==============================] - 5s 3ms/step - loss: 0.0154 - accuracy: 0.9948 - val_loss: 0.0208 - val_accuracy: 0.9943\n",
            "Epoch 21/30\n",
            "1688/1688 [==============================] - 5s 3ms/step - loss: 0.0144 - accuracy: 0.9951 - val_loss: 0.0198 - val_accuracy: 0.9943\n",
            "Epoch 22/30\n",
            "1688/1688 [==============================] - 5s 3ms/step - loss: 0.0136 - accuracy: 0.9955 - val_loss: 0.0216 - val_accuracy: 0.9943\n",
            "Epoch 23/30\n",
            "1688/1688 [==============================] - 5s 3ms/step - loss: 0.0153 - accuracy: 0.9948 - val_loss: 0.0247 - val_accuracy: 0.9923\n",
            "Epoch 24/30\n",
            "1688/1688 [==============================] - 5s 3ms/step - loss: 0.0141 - accuracy: 0.9953 - val_loss: 0.0168 - val_accuracy: 0.9942\n",
            "Epoch 25/30\n",
            "1688/1688 [==============================] - 5s 3ms/step - loss: 0.0149 - accuracy: 0.9949 - val_loss: 0.0249 - val_accuracy: 0.9923\n",
            "Epoch 26/30\n",
            "1688/1688 [==============================] - 5s 3ms/step - loss: 0.0132 - accuracy: 0.9958 - val_loss: 0.0297 - val_accuracy: 0.9923\n",
            "Epoch 27/30\n",
            "1688/1688 [==============================] - 5s 3ms/step - loss: 0.0134 - accuracy: 0.9956 - val_loss: 0.0257 - val_accuracy: 0.9918\n",
            "Epoch 28/30\n",
            "1688/1688 [==============================] - 5s 3ms/step - loss: 0.0162 - accuracy: 0.9944 - val_loss: 0.0254 - val_accuracy: 0.9943\n",
            "Epoch 29/30\n",
            "1688/1688 [==============================] - 5s 3ms/step - loss: 0.0131 - accuracy: 0.9958 - val_loss: 0.0329 - val_accuracy: 0.9910\n",
            "Epoch 30/30\n",
            "1688/1688 [==============================] - 5s 3ms/step - loss: 0.0135 - accuracy: 0.9954 - val_loss: 0.0278 - val_accuracy: 0.9937\n",
            "[0.027825385332107544, 0.9936666488647461]\n",
            "Epoch 1/30\n",
            "1688/1688 [==============================] - 5s 3ms/step - loss: 0.0178 - accuracy: 0.9942 - val_loss: 0.0023 - val_accuracy: 0.9992\n",
            "Epoch 2/30\n",
            "1688/1688 [==============================] - 5s 3ms/step - loss: 0.0150 - accuracy: 0.9948 - val_loss: 0.0037 - val_accuracy: 0.9985\n",
            "Epoch 3/30\n",
            "1688/1688 [==============================] - 5s 3ms/step - loss: 0.0152 - accuracy: 0.9951 - val_loss: 0.0036 - val_accuracy: 0.9992\n",
            "Epoch 4/30\n",
            "1688/1688 [==============================] - 5s 3ms/step - loss: 0.0155 - accuracy: 0.9949 - val_loss: 0.0031 - val_accuracy: 0.9992\n",
            "Epoch 5/30\n",
            "1688/1688 [==============================] - 5s 3ms/step - loss: 0.0142 - accuracy: 0.9950 - val_loss: 0.0039 - val_accuracy: 0.9983\n",
            "Epoch 6/30\n",
            "1688/1688 [==============================] - 5s 3ms/step - loss: 0.0141 - accuracy: 0.9954 - val_loss: 0.0056 - val_accuracy: 0.9980\n",
            "Epoch 7/30\n",
            "1688/1688 [==============================] - 5s 3ms/step - loss: 0.0126 - accuracy: 0.9959 - val_loss: 0.0039 - val_accuracy: 0.9985\n",
            "Epoch 8/30\n",
            "1688/1688 [==============================] - 5s 3ms/step - loss: 0.0126 - accuracy: 0.9958 - val_loss: 0.0064 - val_accuracy: 0.9980\n",
            "Epoch 9/30\n",
            "1688/1688 [==============================] - 5s 3ms/step - loss: 0.0137 - accuracy: 0.9952 - val_loss: 0.0084 - val_accuracy: 0.9977\n",
            "Epoch 10/30\n",
            "1688/1688 [==============================] - 6s 3ms/step - loss: 0.0144 - accuracy: 0.9951 - val_loss: 0.0056 - val_accuracy: 0.9980\n",
            "Epoch 11/30\n",
            "1688/1688 [==============================] - 5s 3ms/step - loss: 0.0132 - accuracy: 0.9956 - val_loss: 0.0072 - val_accuracy: 0.9982\n",
            "Epoch 12/30\n",
            "1688/1688 [==============================] - 5s 3ms/step - loss: 0.0130 - accuracy: 0.9958 - val_loss: 0.0082 - val_accuracy: 0.9973\n",
            "Epoch 13/30\n",
            "1688/1688 [==============================] - 5s 3ms/step - loss: 0.0115 - accuracy: 0.9963 - val_loss: 0.0093 - val_accuracy: 0.9977\n",
            "Epoch 14/30\n",
            "1688/1688 [==============================] - 5s 3ms/step - loss: 0.0142 - accuracy: 0.9954 - val_loss: 0.0091 - val_accuracy: 0.9970\n",
            "Epoch 15/30\n",
            "1688/1688 [==============================] - 5s 3ms/step - loss: 0.0133 - accuracy: 0.9954 - val_loss: 0.0091 - val_accuracy: 0.9970\n",
            "Epoch 16/30\n",
            "1688/1688 [==============================] - 5s 3ms/step - loss: 0.0141 - accuracy: 0.9956 - val_loss: 0.0078 - val_accuracy: 0.9968\n",
            "Epoch 17/30\n",
            "1688/1688 [==============================] - 5s 3ms/step - loss: 0.0113 - accuracy: 0.9961 - val_loss: 0.0102 - val_accuracy: 0.9973\n",
            "Epoch 18/30\n",
            "1688/1688 [==============================] - 5s 3ms/step - loss: 0.0125 - accuracy: 0.9959 - val_loss: 0.0104 - val_accuracy: 0.9970\n",
            "Epoch 19/30\n",
            "1688/1688 [==============================] - 5s 3ms/step - loss: 0.0118 - accuracy: 0.9960 - val_loss: 0.0084 - val_accuracy: 0.9968\n",
            "Epoch 20/30\n",
            "1688/1688 [==============================] - 5s 3ms/step - loss: 0.0123 - accuracy: 0.9959 - val_loss: 0.0156 - val_accuracy: 0.9958\n",
            "Epoch 21/30\n",
            "1688/1688 [==============================] - 5s 3ms/step - loss: 0.0118 - accuracy: 0.9960 - val_loss: 0.0120 - val_accuracy: 0.9967\n",
            "Epoch 22/30\n",
            "1688/1688 [==============================] - 5s 3ms/step - loss: 0.0124 - accuracy: 0.9958 - val_loss: 0.0110 - val_accuracy: 0.9965\n",
            "Epoch 23/30\n",
            "1688/1688 [==============================] - 5s 3ms/step - loss: 0.0108 - accuracy: 0.9962 - val_loss: 0.0168 - val_accuracy: 0.9958\n",
            "Epoch 24/30\n",
            "1688/1688 [==============================] - 6s 3ms/step - loss: 0.0129 - accuracy: 0.9956 - val_loss: 0.0110 - val_accuracy: 0.9972\n",
            "Epoch 25/30\n",
            "1688/1688 [==============================] - 6s 3ms/step - loss: 0.0120 - accuracy: 0.9962 - val_loss: 0.0154 - val_accuracy: 0.9957\n",
            "Epoch 26/30\n",
            "1688/1688 [==============================] - 5s 3ms/step - loss: 0.0113 - accuracy: 0.9961 - val_loss: 0.0197 - val_accuracy: 0.9953\n",
            "Epoch 27/30\n",
            "1688/1688 [==============================] - 6s 3ms/step - loss: 0.0117 - accuracy: 0.9962 - val_loss: 0.0141 - val_accuracy: 0.9960\n",
            "Epoch 28/30\n",
            "1688/1688 [==============================] - 6s 3ms/step - loss: 0.0137 - accuracy: 0.9956 - val_loss: 0.0239 - val_accuracy: 0.9938\n",
            "Epoch 29/30\n",
            "1688/1688 [==============================] - 5s 3ms/step - loss: 0.0114 - accuracy: 0.9964 - val_loss: 0.0217 - val_accuracy: 0.9950\n",
            "Epoch 30/30\n",
            "1688/1688 [==============================] - 5s 3ms/step - loss: 0.0120 - accuracy: 0.9962 - val_loss: 0.0172 - val_accuracy: 0.9957\n",
            "[0.017164308577775955, 0.9956666827201843]\n",
            "Epoch 1/30\n",
            "1688/1688 [==============================] - 5s 3ms/step - loss: 0.0162 - accuracy: 0.9951 - val_loss: 0.0041 - val_accuracy: 0.9990\n",
            "Epoch 2/30\n",
            "1688/1688 [==============================] - 5s 3ms/step - loss: 0.0147 - accuracy: 0.9953 - val_loss: 0.0013 - val_accuracy: 0.9995\n",
            "Epoch 3/30\n",
            "1688/1688 [==============================] - 5s 3ms/step - loss: 0.0108 - accuracy: 0.9965 - val_loss: 0.0016 - val_accuracy: 0.9993\n",
            "Epoch 4/30\n",
            "1688/1688 [==============================] - 5s 3ms/step - loss: 0.0126 - accuracy: 0.9960 - val_loss: 0.0034 - val_accuracy: 0.9987\n",
            "Epoch 5/30\n",
            "1688/1688 [==============================] - 5s 3ms/step - loss: 0.0138 - accuracy: 0.9960 - val_loss: 0.0032 - val_accuracy: 0.9988\n",
            "Epoch 6/30\n",
            "1688/1688 [==============================] - 5s 3ms/step - loss: 0.0117 - accuracy: 0.9960 - val_loss: 0.0029 - val_accuracy: 0.9990\n",
            "Epoch 7/30\n",
            "1688/1688 [==============================] - 6s 3ms/step - loss: 0.0121 - accuracy: 0.9964 - val_loss: 0.0015 - val_accuracy: 0.9995\n",
            "Epoch 8/30\n",
            "1688/1688 [==============================] - 6s 3ms/step - loss: 0.0115 - accuracy: 0.9957 - val_loss: 0.0014 - val_accuracy: 0.9995\n",
            "Epoch 9/30\n",
            "1688/1688 [==============================] - 6s 3ms/step - loss: 0.0110 - accuracy: 0.9966 - val_loss: 0.0032 - val_accuracy: 0.9990\n",
            "Epoch 10/30\n",
            "1688/1688 [==============================] - 5s 3ms/step - loss: 0.0121 - accuracy: 0.9962 - val_loss: 0.0052 - val_accuracy: 0.9980\n",
            "Epoch 11/30\n",
            "1688/1688 [==============================] - 6s 3ms/step - loss: 0.0114 - accuracy: 0.9965 - val_loss: 0.0026 - val_accuracy: 0.9990\n",
            "Epoch 12/30\n",
            "1688/1688 [==============================] - 5s 3ms/step - loss: 0.0115 - accuracy: 0.9964 - val_loss: 0.0027 - val_accuracy: 0.9993\n",
            "Epoch 13/30\n",
            "1688/1688 [==============================] - 6s 3ms/step - loss: 0.0118 - accuracy: 0.9963 - val_loss: 0.0025 - val_accuracy: 0.9993\n",
            "Epoch 14/30\n",
            "1688/1688 [==============================] - 6s 3ms/step - loss: 0.0122 - accuracy: 0.9961 - val_loss: 0.0022 - val_accuracy: 0.9992\n",
            "Epoch 15/30\n",
            "1688/1688 [==============================] - 6s 3ms/step - loss: 0.0112 - accuracy: 0.9965 - val_loss: 0.0052 - val_accuracy: 0.9982\n",
            "Epoch 16/30\n",
            "1688/1688 [==============================] - 5s 3ms/step - loss: 0.0111 - accuracy: 0.9965 - val_loss: 0.0057 - val_accuracy: 0.9980\n",
            "Epoch 17/30\n",
            "1688/1688 [==============================] - 6s 3ms/step - loss: 0.0115 - accuracy: 0.9966 - val_loss: 0.0051 - val_accuracy: 0.9982\n",
            "Epoch 18/30\n",
            "1688/1688 [==============================] - 5s 3ms/step - loss: 0.0119 - accuracy: 0.9960 - val_loss: 0.0077 - val_accuracy: 0.9978\n",
            "Epoch 19/30\n",
            "1688/1688 [==============================] - 6s 3ms/step - loss: 0.0112 - accuracy: 0.9966 - val_loss: 0.0090 - val_accuracy: 0.9982\n",
            "Epoch 20/30\n",
            "1688/1688 [==============================] - 5s 3ms/step - loss: 0.0122 - accuracy: 0.9962 - val_loss: 0.0042 - val_accuracy: 0.9983\n",
            "Epoch 21/30\n",
            "1688/1688 [==============================] - 6s 3ms/step - loss: 0.0119 - accuracy: 0.9964 - val_loss: 0.0063 - val_accuracy: 0.9982\n",
            "Epoch 22/30\n",
            "1688/1688 [==============================] - 6s 3ms/step - loss: 0.0106 - accuracy: 0.9966 - val_loss: 0.0034 - val_accuracy: 0.9980\n",
            "Epoch 23/30\n",
            "1688/1688 [==============================] - 6s 3ms/step - loss: 0.0095 - accuracy: 0.9971 - val_loss: 0.0063 - val_accuracy: 0.9980\n",
            "Epoch 24/30\n",
            "1688/1688 [==============================] - 5s 3ms/step - loss: 0.0136 - accuracy: 0.9957 - val_loss: 0.0060 - val_accuracy: 0.9973\n",
            "Epoch 25/30\n",
            "1688/1688 [==============================] - 5s 3ms/step - loss: 0.0122 - accuracy: 0.9964 - val_loss: 0.0042 - val_accuracy: 0.9990\n",
            "Epoch 26/30\n",
            "1688/1688 [==============================] - 5s 3ms/step - loss: 0.0118 - accuracy: 0.9964 - val_loss: 0.0039 - val_accuracy: 0.9985\n",
            "Epoch 27/30\n",
            "1688/1688 [==============================] - 5s 3ms/step - loss: 0.0096 - accuracy: 0.9969 - val_loss: 0.0072 - val_accuracy: 0.9975\n",
            "Epoch 28/30\n",
            "1688/1688 [==============================] - 5s 3ms/step - loss: 0.0103 - accuracy: 0.9968 - val_loss: 0.0083 - val_accuracy: 0.9965\n",
            "Epoch 29/30\n",
            "1688/1688 [==============================] - 5s 3ms/step - loss: 0.0128 - accuracy: 0.9960 - val_loss: 0.0116 - val_accuracy: 0.9967\n",
            "Epoch 30/30\n",
            "1688/1688 [==============================] - 5s 3ms/step - loss: 0.0093 - accuracy: 0.9971 - val_loss: 0.0086 - val_accuracy: 0.9968\n",
            "[0.00861797109246254, 0.996833324432373]\n",
            "Epoch 1/30\n",
            "1688/1688 [==============================] - 5s 3ms/step - loss: 0.0156 - accuracy: 0.9954 - val_loss: 7.8462e-04 - val_accuracy: 1.0000\n",
            "Epoch 2/30\n",
            "1688/1688 [==============================] - 5s 3ms/step - loss: 0.0120 - accuracy: 0.9962 - val_loss: 0.0020 - val_accuracy: 0.9997\n",
            "Epoch 3/30\n",
            "1688/1688 [==============================] - 5s 3ms/step - loss: 0.0095 - accuracy: 0.9971 - val_loss: 7.7090e-04 - val_accuracy: 0.9998\n",
            "Epoch 4/30\n",
            "1688/1688 [==============================] - 5s 3ms/step - loss: 0.0124 - accuracy: 0.9957 - val_loss: 0.0010 - val_accuracy: 0.9997\n",
            "Epoch 5/30\n",
            "1688/1688 [==============================] - 5s 3ms/step - loss: 0.0136 - accuracy: 0.9961 - val_loss: 0.0022 - val_accuracy: 0.9993\n",
            "Epoch 6/30\n",
            "1688/1688 [==============================] - 6s 3ms/step - loss: 0.0098 - accuracy: 0.9970 - val_loss: 0.0014 - val_accuracy: 0.9995\n",
            "Epoch 7/30\n",
            "1688/1688 [==============================] - 5s 3ms/step - loss: 0.0098 - accuracy: 0.9969 - val_loss: 0.0045 - val_accuracy: 0.9990\n",
            "Epoch 8/30\n",
            "1688/1688 [==============================] - 5s 3ms/step - loss: 0.0127 - accuracy: 0.9962 - val_loss: 0.0016 - val_accuracy: 0.9993\n",
            "Epoch 9/30\n",
            "1688/1688 [==============================] - 6s 3ms/step - loss: 0.0095 - accuracy: 0.9966 - val_loss: 0.0041 - val_accuracy: 0.9982\n",
            "Epoch 10/30\n",
            "1688/1688 [==============================] - 5s 3ms/step - loss: 0.0109 - accuracy: 0.9968 - val_loss: 0.0071 - val_accuracy: 0.9985\n",
            "Epoch 11/30\n",
            "1688/1688 [==============================] - 5s 3ms/step - loss: 0.0097 - accuracy: 0.9969 - val_loss: 0.0040 - val_accuracy: 0.9990\n",
            "Epoch 12/30\n",
            "1688/1688 [==============================] - 5s 3ms/step - loss: 0.0127 - accuracy: 0.9962 - val_loss: 0.0039 - val_accuracy: 0.9988\n",
            "Epoch 13/30\n",
            "1688/1688 [==============================] - 5s 3ms/step - loss: 0.0114 - accuracy: 0.9965 - val_loss: 0.0050 - val_accuracy: 0.9983\n",
            "Epoch 14/30\n",
            "1688/1688 [==============================] - 5s 3ms/step - loss: 0.0115 - accuracy: 0.9963 - val_loss: 0.0036 - val_accuracy: 0.9993\n",
            "Epoch 15/30\n",
            "1688/1688 [==============================] - 6s 3ms/step - loss: 0.0102 - accuracy: 0.9971 - val_loss: 0.0041 - val_accuracy: 0.9990\n",
            "Epoch 16/30\n",
            "1688/1688 [==============================] - 6s 3ms/step - loss: 0.0104 - accuracy: 0.9968 - val_loss: 0.0091 - val_accuracy: 0.9975\n",
            "Epoch 17/30\n",
            "1688/1688 [==============================] - 5s 3ms/step - loss: 0.0105 - accuracy: 0.9965 - val_loss: 0.0037 - val_accuracy: 0.9987\n",
            "Epoch 18/30\n",
            "1688/1688 [==============================] - 5s 3ms/step - loss: 0.0096 - accuracy: 0.9968 - val_loss: 0.0089 - val_accuracy: 0.9978\n",
            "Epoch 19/30\n",
            "1688/1688 [==============================] - 5s 3ms/step - loss: 0.0114 - accuracy: 0.9966 - val_loss: 0.0082 - val_accuracy: 0.9980\n",
            "Epoch 20/30\n",
            "1688/1688 [==============================] - 5s 3ms/step - loss: 0.0102 - accuracy: 0.9970 - val_loss: 0.0085 - val_accuracy: 0.9980\n",
            "Epoch 21/30\n",
            "1688/1688 [==============================] - 5s 3ms/step - loss: 0.0126 - accuracy: 0.9961 - val_loss: 0.0088 - val_accuracy: 0.9982\n",
            "Epoch 22/30\n",
            "1688/1688 [==============================] - 5s 3ms/step - loss: 0.0093 - accuracy: 0.9971 - val_loss: 0.0058 - val_accuracy: 0.9983\n",
            "Epoch 23/30\n",
            "1688/1688 [==============================] - 5s 3ms/step - loss: 0.0086 - accuracy: 0.9972 - val_loss: 0.0088 - val_accuracy: 0.9983\n",
            "Epoch 24/30\n",
            "1688/1688 [==============================] - 6s 3ms/step - loss: 0.0107 - accuracy: 0.9969 - val_loss: 0.0073 - val_accuracy: 0.9977\n",
            "Epoch 25/30\n",
            "1688/1688 [==============================] - 6s 3ms/step - loss: 0.0118 - accuracy: 0.9964 - val_loss: 0.0078 - val_accuracy: 0.9978\n",
            "Epoch 26/30\n",
            "1688/1688 [==============================] - 6s 3ms/step - loss: 0.0115 - accuracy: 0.9966 - val_loss: 0.0085 - val_accuracy: 0.9978\n",
            "Epoch 27/30\n",
            "1688/1688 [==============================] - 6s 3ms/step - loss: 0.0108 - accuracy: 0.9965 - val_loss: 0.0074 - val_accuracy: 0.9978\n",
            "Epoch 28/30\n",
            "1688/1688 [==============================] - 6s 3ms/step - loss: 0.0095 - accuracy: 0.9969 - val_loss: 0.0069 - val_accuracy: 0.9977\n",
            "Epoch 29/30\n",
            "1688/1688 [==============================] - 5s 3ms/step - loss: 0.0111 - accuracy: 0.9968 - val_loss: 0.0107 - val_accuracy: 0.9977\n",
            "Epoch 30/30\n",
            "1688/1688 [==============================] - 5s 3ms/step - loss: 0.0103 - accuracy: 0.9967 - val_loss: 0.0136 - val_accuracy: 0.9967\n",
            "[0.013638854026794434, 0.996666669845581]\n",
            "Epoch 1/30\n",
            "1688/1688 [==============================] - 6s 3ms/step - loss: 0.0130 - accuracy: 0.9963 - val_loss: 0.0011 - val_accuracy: 0.9998\n",
            "Epoch 2/30\n",
            "1688/1688 [==============================] - 6s 3ms/step - loss: 0.0116 - accuracy: 0.9962 - val_loss: 6.4415e-04 - val_accuracy: 0.9998\n",
            "Epoch 3/30\n",
            "1688/1688 [==============================] - 6s 3ms/step - loss: 0.0107 - accuracy: 0.9968 - val_loss: 0.0027 - val_accuracy: 0.9993\n",
            "Epoch 4/30\n",
            "1688/1688 [==============================] - 5s 3ms/step - loss: 0.0102 - accuracy: 0.9968 - val_loss: 0.0010 - val_accuracy: 0.9995\n",
            "Epoch 5/30\n",
            "1688/1688 [==============================] - 6s 3ms/step - loss: 0.0113 - accuracy: 0.9968 - val_loss: 0.0017 - val_accuracy: 0.9995\n",
            "Epoch 6/30\n",
            "1688/1688 [==============================] - 6s 3ms/step - loss: 0.0098 - accuracy: 0.9971 - val_loss: 8.8761e-04 - val_accuracy: 0.9998\n",
            "Epoch 7/30\n",
            "1688/1688 [==============================] - 6s 3ms/step - loss: 0.0083 - accuracy: 0.9973 - val_loss: 7.8072e-04 - val_accuracy: 0.9998\n",
            "Epoch 8/30\n",
            "1688/1688 [==============================] - 5s 3ms/step - loss: 0.0110 - accuracy: 0.9969 - val_loss: 0.0010 - val_accuracy: 0.9997\n",
            "Epoch 9/30\n",
            "1688/1688 [==============================] - 5s 3ms/step - loss: 0.0093 - accuracy: 0.9970 - val_loss: 0.0020 - val_accuracy: 0.9992\n",
            "Epoch 10/30\n",
            "1688/1688 [==============================] - 6s 3ms/step - loss: 0.0091 - accuracy: 0.9972 - val_loss: 0.0011 - val_accuracy: 0.9998\n",
            "Epoch 11/30\n",
            "1688/1688 [==============================] - 6s 3ms/step - loss: 0.0107 - accuracy: 0.9970 - val_loss: 0.0022 - val_accuracy: 0.9993\n",
            "Epoch 12/30\n",
            "1688/1688 [==============================] - 6s 3ms/step - loss: 0.0099 - accuracy: 0.9968 - val_loss: 0.0017 - val_accuracy: 0.9992\n",
            "Epoch 13/30\n",
            "1688/1688 [==============================] - 6s 3ms/step - loss: 0.0101 - accuracy: 0.9970 - val_loss: 0.0024 - val_accuracy: 0.9990\n",
            "Epoch 14/30\n",
            "1688/1688 [==============================] - 6s 3ms/step - loss: 0.0098 - accuracy: 0.9970 - val_loss: 0.0029 - val_accuracy: 0.9995\n",
            "Epoch 15/30\n",
            "1688/1688 [==============================] - 6s 3ms/step - loss: 0.0088 - accuracy: 0.9973 - val_loss: 0.0021 - val_accuracy: 0.9995\n",
            "Epoch 16/30\n",
            "1688/1688 [==============================] - 6s 3ms/step - loss: 0.0105 - accuracy: 0.9967 - val_loss: 0.0020 - val_accuracy: 0.9998\n",
            "Epoch 17/30\n",
            "1460/1688 [========================>.....] - ETA: 0s - loss: 0.0090 - accuracy: 0.9973"
          ]
        }
      ]
    },
    {
      "cell_type": "code",
      "source": [
        "accur=[x[1] for x in result_accur]\n",
        "print(accur)\n",
        "print(f\"average accuracy：{np.mean(accur)}\")"
      ],
      "metadata": {
        "colab": {
          "base_uri": "https://localhost:8080/"
        },
        "id": "crLLlwdl27oy",
        "outputId": "07199e22-a063-49a3-9e74-95ecc923424a"
      },
      "execution_count": 110,
      "outputs": [
        {
          "output_type": "stream",
          "name": "stdout",
          "text": [
            "[0.9936666488647461, 0.9956666827201843, 0.996833324432373, 0.996666669845581, 0.9978333115577698, 0.9976666569709778, 0.9993333220481873, 0.9994999766349792, 0.999833345413208, 0.9993333220481873]\n",
            "average accuracy：0.9976333260536194\n"
          ]
        }
      ]
    },
    {
      "cell_type": "code",
      "source": [
        "from sklearn.metrics import matthews_corrcoef\n",
        "Matthews_Correlation_Coefficient = matthews_corrcoef(y_test, p_test)\n",
        "print('Matthews Correlation Coefficient:', Matthews_Correlation_Coefficient)"
      ],
      "metadata": {
        "colab": {
          "base_uri": "https://localhost:8080/"
        },
        "id": "G6D0ThiQ2_Of",
        "outputId": "c4d6fbbe-722a-41f6-c530-ab9fbc52fc1d"
      },
      "execution_count": 111,
      "outputs": [
        {
          "output_type": "stream",
          "name": "stdout",
          "text": [
            "Matthews Correlation Coefficient: 0.9772182914276341\n"
          ]
        }
      ]
    },
    {
      "cell_type": "code",
      "source": [
        "from sklearn.metrics import confusion_matrix\n",
        "import matplotlib.pyplot as plt\n",
        "import seaborn as sns\n",
        "import itertools"
      ],
      "metadata": {
        "id": "dNTd4kEerJGk"
      },
      "execution_count": 91,
      "outputs": []
    },
    {
      "cell_type": "code",
      "source": [
        "def plot_confusion_matrix(cm, classes,\n",
        "                          normalize = False,\n",
        "title=\"Confusion Matrix\",\n",
        "cmap = plt.cm.pink_r):\n",
        "  \n",
        "  if normalize:\n",
        "    cm = cm.astype('float') / cm.sum(axis=1)[:,np.newaxis]\n",
        "    print(\"Normalized Confusion Matrix\")\n",
        "  \n",
        "  else:\n",
        "    print(\"Confusion matrix without normalization\")\n",
        "  \n",
        "  print(cm)\n",
        "  plt.imshow(cm, interpolation='nearest', cmap=cmap)\n",
        "  plt.title(title)\n",
        "  plt.colorbar()\n",
        "  tick_marks = np.arange(len(classes))\n",
        "  plt.xticks(tick_marks, classes, rotation=45)\n",
        "  plt.yticks(tick_marks, classes)\n",
        "  if normalize:\n",
        "    fmt = '.2f'\n",
        "  else:\n",
        "    fmt = 'd'\n",
        "  thresh = cm.max() / 2.\n",
        "  for i, j in itertools.product(range(cm.shape[0]), range(cm.shape[1])):\n",
        "    plt.text(j, i, format(cm[i, j], fmt),\n",
        "             horizontalalignment = 'center',\n",
        "             color = \"white\" if cm[i, j] > thresh else \"black\")\n",
        "  plt.tight_layout()\n",
        "  plt.ylabel('True label')\n",
        "  plt.xlabel('Predicted label')\n",
        "  plt.show()"
      ],
      "metadata": {
        "id": "R0bq_EEorPFv"
      },
      "execution_count": 102,
      "outputs": []
    },
    {
      "cell_type": "code",
      "source": [
        "p_test = model.predict(x_test).argmax(axis=1)\n",
        "cm = confusion_matrix(y_test, p_test)\n",
        "plot_confusion_matrix(cm, list(range(10)))"
      ],
      "metadata": {
        "colab": {
          "base_uri": "https://localhost:8080/",
          "height": 507
        },
        "id": "uwCms583wW0Y",
        "outputId": "c7a76261-af90-41ce-967a-1130d9cee751"
      },
      "execution_count": 103,
      "outputs": [
        {
          "output_type": "stream",
          "name": "stdout",
          "text": [
            "Confusion matrix without normalization\n",
            "[[ 970    1    1    0    0    0    3    1    3    1]\n",
            " [   0 1124    4    0    0    0    1    1    5    0]\n",
            " [   1    1 1014    3    3    0    2    5    3    0]\n",
            " [   1    0    5  990    0    4    0    7    2    1]\n",
            " [   0    0    2    0  967    0    4    1    0    8]\n",
            " [   1    0    0   11    1  865    4    2    6    2]\n",
            " [   4    3    1    1    4    7  935    0    3    0]\n",
            " [   3    3   10    2    1    0    0 1003    3    3]\n",
            " [   4    0    2    5    3    1    0    6  953    0]\n",
            " [   0    4    0    7    9    2    0    5    8  974]]\n"
          ]
        },
        {
          "output_type": "display_data",
          "data": {
            "text/plain": [
              "<Figure size 432x288 with 2 Axes>"
            ],
            "image/png": "[encoded data removed]"
          },
          "metadata": {
            "needs_background": "light"
          }
        }
      ]
    },
    {
      "cell_type": "code",
      "source": [
        "from sklearn.metrics import confusion_matrix\n",
        "import itertools"
      ],
      "metadata": {
        "id": "hsCJUWV8yF5l"
      },
      "execution_count": 104,
      "outputs": []
    },
    {
      "cell_type": "code",
      "source": [
        "def plot_confusion_matrix(cm, classes,\n",
        "                          normalize = False,\n",
        "title=\"Confusion Matrix\",\n",
        "cmap = plt.cm.pink_r):\n",
        "  \n",
        "  \n",
        "  if normalize:\n",
        "    cm = cm.astype('float') / cm.sum(axis=1)[:,np.newaxis]\n",
        "    print(\"Normalized Confusion Matrix\")\n",
        "  \n",
        "  else:\n",
        "     print(\"Confusion matrix without normalization\")\n",
        "  \n",
        "  print(cm)\n",
        "  plt.imshow(cm, interpolation='nearest', cmap=cmap)\n",
        "  plt.title(title)\n",
        "  plt.colorbar()\n",
        "  tick_marks = np.arange(len(classes))\n",
        "  plt.xticks(tick_marks, classes, rotation=45)\n",
        "  plt.yticks(tick_marks, classes)\n",
        "  fmt = '.2f' if normalize else 'd'\n",
        "  thresh = cm.max() / 2.\n",
        "  for i, j in itertools.product(range(cm.shape[0]), range(cm.shape[1])):\n",
        "    plt.text(j, i, format(cm[i, j], fmt),\n",
        "             horizontalalignment = 'center',\n",
        "             color = \"white\" if cm[i, j] > thresh else \"black\")\n",
        "  \n",
        "  plt.tight_layout()\n",
        "  plt.ylabel('True label')\n",
        "  plt.xlabel('Predicted label')\n",
        "  plt.show()"
      ],
      "metadata": {
        "id": "R5Am2b7WyLBu"
      },
      "execution_count": 106,
      "outputs": []
    },
    {
      "cell_type": "code",
      "source": [
        "p_train = model.predict(x_train).argmax(axis=1)\n",
        "cm = confusion_matrix(y_train, p_train)\n",
        "plot_confusion_matrix(cm, list(range(10)))"
      ],
      "metadata": {
        "colab": {
          "base_uri": "https://localhost:8080/",
          "height": 507
        },
        "id": "6mNWFPKhyf2D",
        "outputId": "9f527ac0-a5c1-4d4b-c0a5-baad363042ec"
      },
      "execution_count": 107,
      "outputs": [
        {
          "output_type": "stream",
          "name": "stdout",
          "text": [
            "Confusion matrix without normalization\n",
            "[[5920    0    1    0    0    0    0    0    2    0]\n",
            " [   0 6738    0    0    1    0    0    2    1    0]\n",
            " [   1    0 5956    0    0    0    0    0    0    1]\n",
            " [   0    0    1 6120    0    1    1    0    6    2]\n",
            " [   0    0    0    0 5842    0    0    0    0    0]\n",
            " [   1    0    0    0    0 5404    9    0    7    0]\n",
            " [   2    0    0    0    4    1 5910    0    1    0]\n",
            " [   0    1    0    0    0    0    0 6263    0    1]\n",
            " [   0    0    1    0    0    2    0    0 5848    0]\n",
            " [   0    0    0    3    2    0    0    9    7 5928]]\n"
          ]
        },
        {
          "output_type": "display_data",
          "data": {
            "text/plain": [
              "<Figure size 432x288 with 2 Axes>"
            ],
            "image/png": "[encoded data removed]"
          },
          "metadata": {
            "needs_background": "light"
          }
        }
      ]
    }
  ]
}